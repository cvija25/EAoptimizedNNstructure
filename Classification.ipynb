{
 "cells": [
  {
   "cell_type": "code",
   "execution_count": 2,
   "id": "e80868ce",
   "metadata": {},
   "outputs": [
    {
     "name": "stderr",
     "output_type": "stream",
     "text": [
      "2023-09-07 13:16:11.270989: I tensorflow/tsl/cuda/cudart_stub.cc:28] Could not find cuda drivers on your machine, GPU will not be used.\n",
      "2023-09-07 13:16:11.372053: I tensorflow/tsl/cuda/cudart_stub.cc:28] Could not find cuda drivers on your machine, GPU will not be used.\n",
      "2023-09-07 13:16:11.373210: I tensorflow/core/platform/cpu_feature_guard.cc:182] This TensorFlow binary is optimized to use available CPU instructions in performance-critical operations.\n",
      "To enable the following instructions: AVX2 FMA, in other operations, rebuild TensorFlow with the appropriate compiler flags.\n",
      "2023-09-07 13:16:13.035541: W tensorflow/compiler/tf2tensorrt/utils/py_utils.cc:38] TF-TRT Warning: Could not find TensorRT\n"
     ]
    }
   ],
   "source": [
    "import tensorflow as tf\n",
    "\n",
    "from tensorflow.keras.models import Sequential\n",
    "from tensorflow.keras.layers import Dense, Conv2D, Flatten, Dropout, MaxPooling2D\n",
    "from tensorflow.keras.preprocessing.image import ImageDataGenerator\n",
    "\n",
    "import os\n",
    "import numpy as np\n",
    "import matplotlib.pyplot as plt\n",
    "import random"
   ]
  },
  {
   "cell_type": "code",
   "execution_count": 3,
   "id": "ca0ac301",
   "metadata": {},
   "outputs": [],
   "source": [
    "_URL = 'https://storage.googleapis.com/mledu-datasets/cats_and_dogs_filtered.zip'\n",
    "\n",
    "path_to_zip = tf.keras.utils.get_file('cats_and_dogs.zip', origin=_URL, extract=True)\n",
    "\n",
    "PATH = os.path.join(os.path.dirname(path_to_zip), 'cats_and_dogs_filtered')"
   ]
  },
  {
   "cell_type": "code",
   "execution_count": 4,
   "id": "52bf3feb",
   "metadata": {},
   "outputs": [],
   "source": [
    "\n",
    "\n",
    "train_dir = os.path.join(PATH, 'train')\n",
    "validation_dir = os.path.join(PATH, 'validation')\n",
    "\n",
    "train_cats_dir = os.path.join(train_dir, 'cats') \n",
    "train_cats_dir = os.path.join(train_dir, 'cats') \n",
    "train_dogs_dir = os.path.join(train_dir, 'dogs')\n",
    "validation_cats_dir = os.path.join(validation_dir, 'cats')\n",
    "validation_dogs_dir = os.path.join(validation_dir, 'dogs')\n",
    "\n",
    "num_cats_tr = len(os.listdir(train_cats_dir))\n",
    "num_dogs_tr = len(os.listdir(train_dogs_dir))\n",
    "\n",
    "num_cats_val = len(os.listdir(validation_cats_dir))\n",
    "num_dogs_val = len(os.listdir(validation_dogs_dir))\n",
    "\n",
    "total_train = num_cats_tr + num_dogs_tr\n",
    "total_val = num_cats_val + num_dogs_val\n",
    "\n",
    "#print('total training cat images:', num_cats_tr)\n",
    "#print('total training dog images:', num_dogs_tr)\n",
    "\n",
    "#print('total validation cat images:', num_cats_val)\n",
    "#print('total validation dog images:', num_dogs_val)\n",
    "#print(\"--\")\n",
    "#print(\"Total training images:\", total_train)\n",
    "#print(\"Total validation images:\", total_val)\n",
    "\n"
   ]
  },
  {
   "cell_type": "code",
   "execution_count": 8,
   "id": "14bd6fc3",
   "metadata": {},
   "outputs": [],
   "source": [
    "epochs = 1\n",
    "IMG_HEIGHT = 150\n",
    "IMG_WIDTH = 150"
   ]
  },
  {
   "cell_type": "code",
   "execution_count": 6,
   "id": "609133b0",
   "metadata": {},
   "outputs": [],
   "source": [
    "train_image_generator = ImageDataGenerator(rescale=1./255)\n",
    "validation_image_generator = ImageDataGenerator(rescale=1./255)"
   ]
  },
  {
   "cell_type": "code",
   "execution_count": 7,
   "id": "1a610905",
   "metadata": {},
   "outputs": [
    {
     "name": "stdout",
     "output_type": "stream",
     "text": [
      "Found 2000 images belonging to 2 classes.\n",
      "Found 1000 images belonging to 2 classes.\n"
     ]
    }
   ],
   "source": [
    "train_data_gen = train_image_generator.flow_from_directory(directory=train_dir,\n",
    "                                                           shuffle=True,\n",
    "                                                           target_size=(IMG_HEIGHT, IMG_WIDTH),\n",
    "                                                           class_mode='binary')\n",
    "\n",
    "val_data_gen = validation_image_generator.flow_from_directory(directory=validation_dir,\n",
    "                                                              target_size=(IMG_HEIGHT, IMG_WIDTH),\n",
    "                                                              class_mode='binary')"
   ]
  },
  {
   "cell_type": "code",
   "execution_count": 14,
   "id": "0d11e98d",
   "metadata": {},
   "outputs": [],
   "source": [
    "class Individual:\n",
    "    def __init__(self):\n",
    "        self.numLayers = random.randrange(2,5)\n",
    "        self.numNodes = random.randrange(8,32)\n",
    "        self.model = self.create_model()\n",
    "        self.acc = self.calc_acc()\n",
    "\n",
    "    def create_model(self):\n",
    "        modelList = [Conv2D(self.numNodes, 3, padding='same', activation='relu', input_shape=(150, 150, 3)),\n",
    "                     MaxPooling2D()]\n",
    "        \n",
    "        for _ in range(self.numLayers):\n",
    "            modelList.append(Conv2D(self.numNodes, 3, padding='same', activation='relu'))\n",
    "            modelList.append(MaxPooling2D())\n",
    "        \n",
    "        modelList.append(Flatten())\n",
    "        modelList.append(Dense(512, activation='relu'))\n",
    "        modelList.append(Dense(1, activation='sigmoid'))\n",
    "        \n",
    "        model = Sequential(modelList)\n",
    "        model.compile(optimizer='adam',loss=tf.keras.losses.BinaryCrossentropy(),metrics=['accuracy'])\n",
    "        \n",
    "        #model.summary()\n",
    "        \n",
    "        return model\n",
    "        \n",
    "    def calc_acc(self):\n",
    "        print(self.numLayers, self.numNodes)\n",
    "        history = self.model.fit(train_data_gen,\n",
    "                    steps_per_epoch=total_train // batch_size,\n",
    "                    epochs=epochs,\n",
    "                    validation_data=val_data_gen,\n",
    "                    validation_steps=total_val // batch_size)\n",
    "        return history.history['accuracy'][-1]\n",
    "    \n",
    "    def __lt__(self,other):\n",
    "        return self.acc < other.acc"
   ]
  },
  {
   "cell_type": "code",
   "execution_count": 15,
   "id": "3a8764ba",
   "metadata": {},
   "outputs": [],
   "source": [
    "def selection(population, tour_size):\n",
    "    competitors_idx = random.sample(range(len(population)), tour_size)\n",
    "    #print(competitors_idx)\n",
    "    \n",
    "    max_acc = -1.0\n",
    "    max_idx = -1\n",
    "    for i in range(tour_size):\n",
    "        if population[competitors_idx[i]].acc > max_acc:\n",
    "            max_acc = population[competitors_idx[i]].acc\n",
    "            max_idx = competitors_idx[i]\n",
    "    return max_idx"
   ]
  },
  {
   "cell_type": "code",
   "execution_count": 16,
   "id": "0568f504",
   "metadata": {},
   "outputs": [],
   "source": [
    "def crossover(individual_1, individual_2, child_1, child_2):\n",
    "    child_1.numLayers = individual_1.numLayers\n",
    "    child_1.numNodes = individual_2.numNodes\n",
    "    \n",
    "    child_2.numLayers = individual_2.numLayers\n",
    "    child_2.numNodes = individual_1.numNodes\n",
    "    "
   ]
  },
  {
   "cell_type": "code",
   "execution_count": 17,
   "id": "c4fcf0d8",
   "metadata": {},
   "outputs": [],
   "source": [
    "def mutation():\n",
    "    pass"
   ]
  },
  {
   "cell_type": "code",
   "execution_count": 18,
   "id": "61100371",
   "metadata": {},
   "outputs": [
    {
     "name": "stdout",
     "output_type": "stream",
     "text": [
      "4 20\n"
     ]
    },
    {
     "name": "stderr",
     "output_type": "stream",
     "text": [
      "/tmp/ipykernel_41987/330682070.py:29: UserWarning: `Model.fit_generator` is deprecated and will be removed in a future version. Please use `Model.fit`, which supports generators.\n",
      "  history = self.model.fit_generator(train_data_gen,\n"
     ]
    },
    {
     "name": "stdout",
     "output_type": "stream",
     "text": [
      "15/15 [==============================] - 14s 751ms/step - loss: 0.7038 - accuracy: 0.5129 - val_loss: 0.6945 - val_accuracy: 0.5268\n",
      "2 9\n",
      "15/15 [==============================] - 9s 492ms/step - loss: 0.6972 - accuracy: 0.5250 - val_loss: 0.6869 - val_accuracy: 0.5982\n",
      "4 31\n",
      "15/15 [==============================] - 17s 997ms/step - loss: 0.6949 - accuracy: 0.4833 - val_loss: 0.6915 - val_accuracy: 0.4955\n",
      "4 26\n",
      "15/15 [==============================] - 15s 867ms/step - loss: 0.6957 - accuracy: 0.5237 - val_loss: 0.6941 - val_accuracy: 0.4777\n",
      "2 10\n",
      "15/15 [==============================] - 9s 472ms/step - loss: 0.7111 - accuracy: 0.5104 - val_loss: 0.6858 - val_accuracy: 0.5491\n",
      "[(4, 20), (2, 9), (4, 31), (4, 26), (2, 10)]\n",
      "4 20\n",
      "15/15 [==============================] - 13s 766ms/step - loss: 0.6975 - accuracy: 0.5146 - val_loss: 0.6935 - val_accuracy: 0.5223\n",
      "4 26\n",
      "15/15 [==============================] - 16s 978ms/step - loss: 0.7012 - accuracy: 0.4771 - val_loss: 0.6926 - val_accuracy: 0.5446\n",
      "4 26\n",
      "15/15 [==============================] - 15s 884ms/step - loss: 0.6961 - accuracy: 0.5125 - val_loss: 0.6933 - val_accuracy: 0.4955\n",
      "4 26\n",
      "15/15 [==============================] - 15s 906ms/step - loss: 0.6938 - accuracy: 0.5063 - val_loss: 0.6889 - val_accuracy: 0.5089\n",
      "[(4, 26), (4, 20), (4, 26), (4, 26), (4, 26)]\n",
      "4 20 0.5145833492279053\n"
     ]
    }
   ],
   "source": [
    "pop_size = 5\n",
    "num_iters = 1\n",
    "elitism = 1\n",
    "mutation_prob = 0.05\n",
    "tour_size = 2\n",
    "\n",
    "population = [Individual() for _ in range(pop_size)]\n",
    "new_population = population[:]\n",
    "\n",
    "print([(population[i].numLayers, population[i].numNodes) for i in range(pop_size)])\n",
    "    \n",
    "for _ in range(num_iters):\n",
    "    \n",
    "    population.sort()\n",
    "    new_population[:elitism] = population[:elitism]\n",
    "    \n",
    "    for i in range(elitism,pop_size,2):\n",
    "\n",
    "        parent1_idx = selection(population, tour_size)\n",
    "        parent2_idx = selection(population, tour_size)\n",
    "        \n",
    "        #print(parent1_idx, parent2_idx)\n",
    "        \n",
    "        crossover(population[parent1_idx], population[parent2_idx], new_population[i], new_population[i+1])\n",
    "        \n",
    "        #mutation(population[i], mutation_prob)\n",
    "        #mutation(population[i+1], mutation_prob)\n",
    "        \n",
    "        new_population[i].model = new_population[i].create_model()\n",
    "        new_population[i+1].model = new_population[i+1].create_model()\n",
    "        \n",
    "        #print(f\"new_pop{i}:{new_population[i].numLayers},{new_population[i].numNodes}\")\n",
    "        #new_population[i].model.summary()\n",
    "        #print(f\"new_pop{i+1}:{new_population[i+1].numLayers},{new_population[i+1].numNodes}\")\n",
    "        #new_population[i+1].model.summary()\n",
    "        \n",
    "        new_population[i].acc = new_population[i].calc_acc()\n",
    "        new_population[i+1].acc = new_population[i+1].calc_acc()\n",
    "    \n",
    "    population[:] = new_population[:]\n",
    "    print([(population[i].numLayers, population[i].numNodes) for i in range(pop_size)])\n",
    "\n",
    "best_individual = max(population)\n",
    "print(best_individual.numLayers, best_individual.numNodes, best_individual.acc)"
   ]
  },
  {
   "cell_type": "code",
   "execution_count": null,
   "id": "6f57f5f1",
   "metadata": {},
   "outputs": [],
   "source": []
  }
 ],
 "metadata": {
  "kernelspec": {
   "display_name": "Python 3 (ipykernel)",
   "language": "python",
   "name": "python3"
  },
  "language_info": {
   "codemirror_mode": {
    "name": "ipython",
    "version": 3
   },
   "file_extension": ".py",
   "mimetype": "text/x-python",
   "name": "python",
   "nbconvert_exporter": "python",
   "pygments_lexer": "ipython3",
   "version": "3.11.4"
  }
 },
 "nbformat": 4,
 "nbformat_minor": 5
}

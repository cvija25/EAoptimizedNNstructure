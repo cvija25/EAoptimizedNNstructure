{
 "cells": [
  {
   "cell_type": "code",
   "execution_count": 1,
   "id": "d63d8773",
   "metadata": {},
   "outputs": [
    {
     "name": "stderr",
     "output_type": "stream",
     "text": [
      "2023-09-05 15:41:50.140153: I tensorflow/tsl/cuda/cudart_stub.cc:28] Could not find cuda drivers on your machine, GPU will not be used.\n",
      "2023-09-05 15:41:50.211692: I tensorflow/tsl/cuda/cudart_stub.cc:28] Could not find cuda drivers on your machine, GPU will not be used.\n",
      "2023-09-05 15:41:50.213408: I tensorflow/core/platform/cpu_feature_guard.cc:182] This TensorFlow binary is optimized to use available CPU instructions in performance-critical operations.\n",
      "To enable the following instructions: AVX2 FMA, in other operations, rebuild TensorFlow with the appropriate compiler flags.\n",
      "2023-09-05 15:41:51.922356: W tensorflow/compiler/tf2tensorrt/utils/py_utils.cc:38] TF-TRT Warning: Could not find TensorRT\n"
     ]
    }
   ],
   "source": [
    "import tensorflow as tf"
   ]
  },
  {
   "cell_type": "code",
   "execution_count": 2,
   "id": "90d9667f",
   "metadata": {},
   "outputs": [],
   "source": [
    "import random"
   ]
  },
  {
   "cell_type": "code",
   "execution_count": 23,
   "id": "4fe62cf5",
   "metadata": {},
   "outputs": [],
   "source": [
    "class Individual:\n",
    "    def __init__(self):\n",
    "        self.numLayers = random.randrange(1,10)\n",
    "        self.numNodes = random.randrange(2,16)\n",
    "        self.acc = self.calc_acc()\n",
    "        \n",
    "    def calc_acc(self):\n",
    "        return ((self.numLayers * self.numNodes) % 10) * 10.0\n",
    "    \n",
    "    def __lt__(self,other):\n",
    "        return self.acc < other.acc"
   ]
  },
  {
   "cell_type": "code",
   "execution_count": 24,
   "id": "f941d192",
   "metadata": {},
   "outputs": [],
   "source": [
    "def selection(population, tour_size):\n",
    "    competitors_idx = random.sample(range(len(population)), tour_size)\n",
    "    #print(competitors_idx)\n",
    "    \n",
    "    max_acc = -1.0\n",
    "    max_idx = -1\n",
    "    for i in range(tour_size):\n",
    "        if population[competitors_idx[i]].acc > max_acc:\n",
    "            max_acc = population[competitors_idx[i]].acc\n",
    "            max_idx = competitors_idx[i]\n",
    "    return max_idx"
   ]
  },
  {
   "cell_type": "code",
   "execution_count": 25,
   "id": "b3ea32cd",
   "metadata": {},
   "outputs": [],
   "source": [
    "def crossover(individual_1, individual_2, child_1, child_2):\n",
    "    child_1.numLayers = individual_1.numLayers\n",
    "    child_1.numNodes = individual_2.numNodes\n",
    "    \n",
    "    child_2.numLayers = individual_2.numLayers\n",
    "    child_2.numNodes = individual_1.numNodes"
   ]
  },
  {
   "cell_type": "code",
   "execution_count": 26,
   "id": "289ccd61",
   "metadata": {},
   "outputs": [],
   "source": [
    "def mutation():\n",
    "    pass"
   ]
  },
  {
   "cell_type": "code",
   "execution_count": 32,
   "id": "6f36114b",
   "metadata": {},
   "outputs": [
    {
     "name": "stdout",
     "output_type": "stream",
     "text": [
      "4 2 80.0\n"
     ]
    }
   ],
   "source": [
    "pop_size = 10\n",
    "num_iters = 10\n",
    "elitism = 2\n",
    "mutation_prob = 0.05\n",
    "tour_size = 5\n",
    "\n",
    "population = [Individual() for _ in range(pop_size)]\n",
    "new_population = [Individual() for _ in range(pop_size)]\n",
    "\n",
    "#for i in range(pop_size):\n",
    " #   print(population[i].numLayers, population[i].numNodes)\n",
    "    \n",
    "for _ in range(num_iters):\n",
    "    \n",
    "    population.sort()\n",
    "    new_population[:elitism] = population[:elitism]\n",
    "    \n",
    "    for i in range(elitism,pop_size,2):\n",
    "\n",
    "        parent1_idx = selection(population, tour_size)\n",
    "        parent2_idx = selection(population, tour_size)\n",
    "        \n",
    "        #print(parent1_idx, parent2_idx)\n",
    "        \n",
    "        crossover(population[parent1_idx], population[parent2_idx], new_population[i], new_population[i+1])\n",
    "        \n",
    "        #mutation(population[i], mutation_prob)\n",
    "        #mutation(population[i+1], mutation_prob)\n",
    "        \n",
    "        new_population[i].acc = new_population[i].calc_acc()\n",
    "        new_population[i+1].acc = new_population[i+1].calc_acc()\n",
    "    \n",
    "    population[:] = new_population[:]\n",
    "\n",
    "best_individual = max(population)\n",
    "print(best_individual.numLayers, best_individual.numNodes, best_individual.acc)"
   ]
  },
  {
   "cell_type": "code",
   "execution_count": null,
   "id": "0dc66323",
   "metadata": {},
   "outputs": [],
   "source": []
  }
 ],
 "metadata": {
  "kernelspec": {
   "display_name": "Python 3 (ipykernel)",
   "language": "python",
   "name": "python3"
  },
  "language_info": {
   "codemirror_mode": {
    "name": "ipython",
    "version": 3
   },
   "file_extension": ".py",
   "mimetype": "text/x-python",
   "name": "python",
   "nbconvert_exporter": "python",
   "pygments_lexer": "ipython3",
   "version": "3.11.4"
  }
 },
 "nbformat": 4,
 "nbformat_minor": 5
}

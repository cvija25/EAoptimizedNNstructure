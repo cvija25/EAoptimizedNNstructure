{
 "cells": [
  {
   "cell_type": "code",
   "execution_count": 1,
   "id": "60cf6d1e",
   "metadata": {},
   "outputs": [
    {
     "name": "stderr",
     "output_type": "stream",
     "text": [
      "2023-09-05 15:36:25.095027: I tensorflow/tsl/cuda/cudart_stub.cc:28] Could not find cuda drivers on your machine, GPU will not be used.\n",
      "2023-09-05 15:36:25.171303: I tensorflow/tsl/cuda/cudart_stub.cc:28] Could not find cuda drivers on your machine, GPU will not be used.\n",
      "2023-09-05 15:36:25.173383: I tensorflow/core/platform/cpu_feature_guard.cc:182] This TensorFlow binary is optimized to use available CPU instructions in performance-critical operations.\n",
      "To enable the following instructions: AVX2 FMA, in other operations, rebuild TensorFlow with the appropriate compiler flags.\n",
      "2023-09-05 15:36:26.875600: W tensorflow/compiler/tf2tensorrt/utils/py_utils.cc:38] TF-TRT Warning: Could not find TensorRT\n"
     ]
    }
   ],
   "source": [
    "import tensorflow as tf"
   ]
  },
  {
   "cell_type": "code",
   "execution_count": 2,
   "id": "8b9aa4c0",
   "metadata": {},
   "outputs": [],
   "source": [
    "import random"
   ]
  },
  {
   "cell_type": "code",
   "execution_count": 3,
   "id": "bdb1532f",
   "metadata": {},
   "outputs": [],
   "source": [
    "class Individual:\n",
    "    def __init__(self):\n",
    "        self.numLayers = random.randrange(1,10)\n",
    "        self.numNodes = random.randrange(2,16)\n",
    "        self.acc = self.calc_acc()\n",
    "        \n",
    "    def calc_acc(self):\n",
    "        return ((self.numLayers * self.numNodes) % 10) * 10.0\n",
    "    \n",
    "    def __lt__(self,other):\n",
    "        return self.acc < other.acc"
   ]
  },
  {
   "cell_type": "code",
   "execution_count": 10,
   "id": "aa270d0d",
   "metadata": {},
   "outputs": [],
   "source": [
    "def selection(population, tour_size):\n",
    "    competitors = random.sample(population, tour_size)\n",
    "    \n",
    "    print(competitors)\n",
    "    \n",
    "    max_acc = -1.0\n",
    "    max_idx = -1\n",
    "    for i in range(tour_size):\n",
    "        if competitors[i].acc > max_acc:\n",
    "            max_acc = competitors[i]\n",
    "            max_idx = i\n",
    "    return max_idx"
   ]
  },
  {
   "cell_type": "code",
   "execution_count": 5,
   "id": "ca6b9dcb",
   "metadata": {},
   "outputs": [],
   "source": [
    "def crossover(individual_1, individual_2, child_1, child_2):\n",
    "    child_1.numLayers = individual_1.numLayers\n",
    "    child_1.numNodes = individual_2.numNodes\n",
    "    \n",
    "    child_2.numLayers = individual_2.numLayers\n",
    "    child_2.numNodes = individual_1.numNodes"
   ]
  },
  {
   "cell_type": "code",
   "execution_count": 6,
   "id": "c52ca635",
   "metadata": {},
   "outputs": [],
   "source": [
    "def mutation():\n",
    "    pass"
   ]
  },
  {
   "cell_type": "code",
   "execution_count": 11,
   "id": "fe667fbd",
   "metadata": {},
   "outputs": [
    {
     "name": "stdout",
     "output_type": "stream",
     "text": [
      "9 5\n",
      "1 10\n",
      "2 8\n",
      "5 7\n",
      "5 12\n",
      "8 14\n",
      "5 13\n",
      "1 4\n",
      "7 8\n",
      "1 12\n",
      "[<__main__.Individual object at 0x7f59db4d2110>, <__main__.Individual object at 0x7f59db4d25d0>, <__main__.Individual object at 0x7f59db4d2690>, <__main__.Individual object at 0x7f59db4d2b50>, <__main__.Individual object at 0x7f59db4d2010>]\n"
     ]
    },
    {
     "ename": "AttributeError",
     "evalue": "'float' object has no attribute 'acc'",
     "output_type": "error",
     "traceback": [
      "\u001b[0;31m---------------------------------------------------------------------------\u001b[0m",
      "\u001b[0;31mAttributeError\u001b[0m                            Traceback (most recent call last)",
      "Cell \u001b[0;32mIn[11], line 20\u001b[0m\n\u001b[1;32m     16\u001b[0m new_population[:elitism] \u001b[38;5;241m=\u001b[39m population[:elitism]\n\u001b[1;32m     18\u001b[0m \u001b[38;5;28;01mfor\u001b[39;00m i \u001b[38;5;129;01min\u001b[39;00m \u001b[38;5;28mrange\u001b[39m(elitism,pop_size,\u001b[38;5;241m2\u001b[39m):\n\u001b[0;32m---> 20\u001b[0m     parent1_idx \u001b[38;5;241m=\u001b[39m selection(population, tour_size)\n\u001b[1;32m     21\u001b[0m     parent2_idx \u001b[38;5;241m=\u001b[39m selection(population, tour_size)\n\u001b[1;32m     23\u001b[0m     crossover(population[parent1_idx], population[parent2_idx], new_population[i], new_population[i\u001b[38;5;241m+\u001b[39m\u001b[38;5;241m1\u001b[39m])\n",
      "Cell \u001b[0;32mIn[10], line 9\u001b[0m, in \u001b[0;36mselection\u001b[0;34m(population, tour_size)\u001b[0m\n\u001b[1;32m      7\u001b[0m max_idx \u001b[38;5;241m=\u001b[39m \u001b[38;5;241m-\u001b[39m\u001b[38;5;241m1\u001b[39m\n\u001b[1;32m      8\u001b[0m \u001b[38;5;28;01mfor\u001b[39;00m i \u001b[38;5;129;01min\u001b[39;00m \u001b[38;5;28mrange\u001b[39m(tour_size):\n\u001b[0;32m----> 9\u001b[0m     \u001b[38;5;28;01mif\u001b[39;00m competitors[i]\u001b[38;5;241m.\u001b[39macc \u001b[38;5;241m>\u001b[39m max_acc:\n\u001b[1;32m     10\u001b[0m         max_acc \u001b[38;5;241m=\u001b[39m competitors[i]\n\u001b[1;32m     11\u001b[0m         max_idx \u001b[38;5;241m=\u001b[39m i\n",
      "Cell \u001b[0;32mIn[3], line 11\u001b[0m, in \u001b[0;36mIndividual.__lt__\u001b[0;34m(self, other)\u001b[0m\n\u001b[1;32m     10\u001b[0m \u001b[38;5;28;01mdef\u001b[39;00m \u001b[38;5;21m__lt__\u001b[39m(\u001b[38;5;28mself\u001b[39m,other):\n\u001b[0;32m---> 11\u001b[0m     \u001b[38;5;28;01mreturn\u001b[39;00m \u001b[38;5;28mself\u001b[39m\u001b[38;5;241m.\u001b[39macc \u001b[38;5;241m<\u001b[39m other\u001b[38;5;241m.\u001b[39macc\n",
      "\u001b[0;31mAttributeError\u001b[0m: 'float' object has no attribute 'acc'"
     ]
    }
   ],
   "source": [
    "pop_size = 10\n",
    "num_iters = 10\n",
    "elitism = 3\n",
    "mutation_prob = 0.05\n",
    "tour_size = 5\n",
    "\n",
    "population = [Individual() for _ in range(pop_size)]\n",
    "new_population = [Individual() for _ in range(pop_size)]\n",
    "\n",
    "#for i in range(pop_size):\n",
    " #   print(population[i].numLayers, population[i].numNodes)\n",
    "    \n",
    "for _ in range(num_iters):\n",
    "    \n",
    "    population.sort()\n",
    "    new_population[:elitism] = population[:elitism]\n",
    "    \n",
    "    for i in range(elitism,pop_size,2):\n",
    "\n",
    "        parent1_idx = selection(population, tour_size)\n",
    "        parent2_idx = selection(population, tour_size)\n",
    "        \n",
    "        crossover(population[parent1_idx], population[parent2_idx], new_population[i], new_population[i+1])\n",
    "        \n",
    "        #mutation(population[i], mutation_prob)\n",
    "        #mutation(population[i+1], mutation_prob)\n",
    "        \n",
    "        new_population[i].acc = new_population[i].calc_acc()\n",
    "        new_population[i+1].acc = new_population[i+1].calc_acc()\n",
    "    \n",
    "    population[:] = new_population[:]\n",
    "\n",
    "best_individual = max(population)\n",
    "print(best_individual.numLayers, best_individual.numNodes, best_individual.acc)"
   ]
  },
  {
   "cell_type": "code",
   "execution_count": null,
   "id": "5ead1c3f",
   "metadata": {},
   "outputs": [],
   "source": []
  }
 ],
 "metadata": {
  "kernelspec": {
   "display_name": "Python 3 (ipykernel)",
   "language": "python",
   "name": "python3"
  },
  "language_info": {
   "codemirror_mode": {
    "name": "ipython",
    "version": 3
   },
   "file_extension": ".py",
   "mimetype": "text/x-python",
   "name": "python",
   "nbconvert_exporter": "python",
   "pygments_lexer": "ipython3",
   "version": "3.11.4"
  }
 },
 "nbformat": 4,
 "nbformat_minor": 5
}
